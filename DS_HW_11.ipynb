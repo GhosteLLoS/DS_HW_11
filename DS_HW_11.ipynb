{
 "cells": [
  {
   "cell_type": "code",
   "execution_count": 1,
   "id": "37387bec-cb86-4395-846f-ff466174b8fd",
   "metadata": {},
   "outputs": [
    {
     "name": "stdout",
     "output_type": "stream",
     "text": [
      "WARNING:tensorflow:From C:\\Users\\Aliaksey\\AppData\\Local\\Programs\\Python\\Python311\\Lib\\site-packages\\keras\\src\\losses.py:2976: The name tf.losses.sparse_softmax_cross_entropy is deprecated. Please use tf.compat.v1.losses.sparse_softmax_cross_entropy instead.\n",
      "\n"
     ]
    }
   ],
   "source": [
    "import numpy as np\n",
    "from tensorflow import keras\n",
    "from tensorflow.keras.datasets import imdb\n",
    "from tensorflow.keras.models import Sequential\n",
    "from tensorflow.keras.layers import Embedding, SimpleRNN, LSTM, Bidirectional, Dense\n",
    "from tensorflow.keras.preprocessing import sequence"
   ]
  },
  {
   "cell_type": "code",
   "execution_count": 2,
   "id": "5e92945b-6f44-4fab-b22a-0abe125f5da4",
   "metadata": {},
   "outputs": [
    {
     "name": "stdout",
     "output_type": "stream",
     "text": [
      "Downloading data from https://storage.googleapis.com/tensorflow/tf-keras-datasets/imdb.npz\n",
      "17464789/17464789 [==============================] - 1s 0us/step\n"
     ]
    }
   ],
   "source": [
    "max_features = 5000\n",
    "maxlen = 500\n",
    "\n",
    "(x_train, y_train), (x_test, y_test) = imdb.load_data(num_words=max_features)\n",
    "\n",
    "x_train = sequence.pad_sequences(x_train, maxlen=maxlen)\n",
    "x_test = sequence.pad_sequences(x_test, maxlen=maxlen)"
   ]
  },
  {
   "cell_type": "code",
   "execution_count": null,
   "id": "41bfd7ae-7e0f-4afe-8c0a-3484fbe59807",
   "metadata": {},
   "outputs": [],
   "source": [
    "Model RNN"
   ]
  },
  {
   "cell_type": "code",
   "execution_count": 3,
   "id": "8476e439-7c3e-46de-8da4-e18e7f4daa62",
   "metadata": {},
   "outputs": [
    {
     "name": "stdout",
     "output_type": "stream",
     "text": [
      "WARNING:tensorflow:From C:\\Users\\Aliaksey\\AppData\\Local\\Programs\\Python\\Python311\\Lib\\site-packages\\keras\\src\\backend.py:873: The name tf.get_default_graph is deprecated. Please use tf.compat.v1.get_default_graph instead.\n",
      "\n",
      "WARNING:tensorflow:From C:\\Users\\Aliaksey\\AppData\\Local\\Programs\\Python\\Python311\\Lib\\site-packages\\keras\\src\\optimizers\\__init__.py:309: The name tf.train.Optimizer is deprecated. Please use tf.compat.v1.train.Optimizer instead.\n",
      "\n"
     ]
    }
   ],
   "source": [
    "model = Sequential()\n",
    "model.add(Embedding(max_features, 32))\n",
    "model.add(SimpleRNN(32))\n",
    "model.add(Dense(1, activation='sigmoid'))\n",
    "model.compile(optimizer='rmsprop', loss='binary_crossentropy', metrics=['accuracy'])"
   ]
  },
  {
   "cell_type": "code",
   "execution_count": 4,
   "id": "da40e438-32b4-4a21-ac3f-93cdddfe6c99",
   "metadata": {},
   "outputs": [
    {
     "name": "stdout",
     "output_type": "stream",
     "text": [
      "Epoch 1/10\n",
      "WARNING:tensorflow:From C:\\Users\\Aliaksey\\AppData\\Local\\Programs\\Python\\Python311\\Lib\\site-packages\\keras\\src\\utils\\tf_utils.py:492: The name tf.ragged.RaggedTensorValue is deprecated. Please use tf.compat.v1.ragged.RaggedTensorValue instead.\n",
      "\n",
      "WARNING:tensorflow:From C:\\Users\\Aliaksey\\AppData\\Local\\Programs\\Python\\Python311\\Lib\\site-packages\\keras\\src\\engine\\base_layer_utils.py:384: The name tf.executing_eagerly_outside_functions is deprecated. Please use tf.compat.v1.executing_eagerly_outside_functions instead.\n",
      "\n",
      "196/196 [==============================] - 30s 144ms/step - loss: 0.5757 - accuracy: 0.6870 - val_loss: 0.4077 - val_accuracy: 0.8239\n",
      "Epoch 2/10\n",
      "196/196 [==============================] - 26s 135ms/step - loss: 0.3849 - accuracy: 0.8365 - val_loss: 0.3667 - val_accuracy: 0.8419\n",
      "Epoch 3/10\n",
      "196/196 [==============================] - 27s 139ms/step - loss: 0.3266 - accuracy: 0.8672 - val_loss: 0.4187 - val_accuracy: 0.8160\n",
      "Epoch 4/10\n",
      "196/196 [==============================] - 27s 139ms/step - loss: 0.2768 - accuracy: 0.8904 - val_loss: 0.3372 - val_accuracy: 0.8667\n",
      "Epoch 5/10\n",
      "196/196 [==============================] - 27s 139ms/step - loss: 0.2499 - accuracy: 0.9027 - val_loss: 0.6315 - val_accuracy: 0.7679\n",
      "Epoch 6/10\n",
      "196/196 [==============================] - 27s 137ms/step - loss: 0.2166 - accuracy: 0.9183 - val_loss: 0.4267 - val_accuracy: 0.8500\n",
      "Epoch 7/10\n",
      "196/196 [==============================] - 26s 134ms/step - loss: 0.1845 - accuracy: 0.9319 - val_loss: 0.5043 - val_accuracy: 0.7637\n",
      "Epoch 8/10\n",
      "196/196 [==============================] - 26s 132ms/step - loss: 0.1553 - accuracy: 0.9427 - val_loss: 0.4866 - val_accuracy: 0.8509\n",
      "Epoch 9/10\n",
      "196/196 [==============================] - 26s 134ms/step - loss: 0.1203 - accuracy: 0.9583 - val_loss: 0.5090 - val_accuracy: 0.8369\n",
      "Epoch 10/10\n",
      "196/196 [==============================] - 27s 140ms/step - loss: 0.0994 - accuracy: 0.9671 - val_loss: 0.5180 - val_accuracy: 0.8238\n"
     ]
    },
    {
     "data": {
      "text/plain": [
       "<keras.src.callbacks.History at 0x195a80248d0>"
      ]
     },
     "execution_count": 4,
     "metadata": {},
     "output_type": "execute_result"
    }
   ],
   "source": [
    "model.fit(x_train, y_train, batch_size=128, epochs=10, validation_data=(x_test, y_test))"
   ]
  },
  {
   "cell_type": "code",
   "execution_count": null,
   "id": "a2d8f8f6-95f2-4e9e-8a7c-3d163972b4b5",
   "metadata": {},
   "outputs": [],
   "source": [
    "scores_rnn = model.evaluate(x_test, y_test, verbose=0)\n",
    "print(\"Base RNN Accuracy: %.2f%%\" % (scores_rnn[1] * 100))"
   ]
  },
  {
   "cell_type": "code",
   "execution_count": null,
   "id": "251d7303-0875-4c19-99a7-409232372709",
   "metadata": {},
   "outputs": [],
   "source": [
    "RNN Accuracy: 82.38%"
   ]
  },
  {
   "cell_type": "code",
   "execution_count": null,
   "id": "d028cde4-7945-40cb-ada2-895e4a7779b7",
   "metadata": {},
   "outputs": [],
   "source": [
    "Model LSTM"
   ]
  },
  {
   "cell_type": "code",
   "execution_count": 6,
   "id": "21090d68-1f89-44ae-a4ee-a6a47f082853",
   "metadata": {},
   "outputs": [
    {
     "name": "stdout",
     "output_type": "stream",
     "text": [
      "Epoch 1/10\n",
      "196/196 [==============================] - 97s 481ms/step - loss: 0.5847 - accuracy: 0.6748 - val_loss: 0.4058 - val_accuracy: 0.8348\n",
      "Epoch 2/10\n",
      "196/196 [==============================] - 95s 487ms/step - loss: 0.3440 - accuracy: 0.8588 - val_loss: 0.3009 - val_accuracy: 0.8768\n",
      "Epoch 3/10\n",
      "196/196 [==============================] - 98s 502ms/step - loss: 0.2843 - accuracy: 0.8874 - val_loss: 0.2917 - val_accuracy: 0.8824\n",
      "Epoch 4/10\n",
      "196/196 [==============================] - 93s 476ms/step - loss: 0.2521 - accuracy: 0.9028 - val_loss: 0.3040 - val_accuracy: 0.8760\n",
      "Epoch 5/10\n",
      "196/196 [==============================] - 95s 487ms/step - loss: 0.2361 - accuracy: 0.9080 - val_loss: 0.4561 - val_accuracy: 0.7919\n",
      "Epoch 6/10\n",
      "196/196 [==============================] - 86s 437ms/step - loss: 0.2233 - accuracy: 0.9143 - val_loss: 0.2976 - val_accuracy: 0.8787\n",
      "Epoch 7/10\n",
      "196/196 [==============================] - 86s 441ms/step - loss: 0.2100 - accuracy: 0.9207 - val_loss: 0.3349 - val_accuracy: 0.8739\n",
      "Epoch 8/10\n",
      "196/196 [==============================] - 87s 443ms/step - loss: 0.1944 - accuracy: 0.9281 - val_loss: 0.3621 - val_accuracy: 0.8688\n",
      "Epoch 9/10\n",
      "196/196 [==============================] - 85s 437ms/step - loss: 0.1870 - accuracy: 0.9312 - val_loss: 0.4548 - val_accuracy: 0.8441\n",
      "Epoch 10/10\n",
      "196/196 [==============================] - 79s 401ms/step - loss: 0.1782 - accuracy: 0.9338 - val_loss: 0.3862 - val_accuracy: 0.8688\n"
     ]
    },
    {
     "data": {
      "text/plain": [
       "<keras.src.callbacks.History at 0x195a449b090>"
      ]
     },
     "execution_count": 6,
     "metadata": {},
     "output_type": "execute_result"
    }
   ],
   "source": [
    "model = Sequential()\n",
    "model.add(Embedding(max_features, 32))\n",
    "model.add(LSTM(32))\n",
    "model.add(Dense(1, activation='sigmoid'))\n",
    "model.compile(optimizer='rmsprop', loss='binary_crossentropy', metrics=['accuracy'])\n",
    "model.fit(x_train, y_train, batch_size=128, epochs=10, validation_data=(x_test, y_test))"
   ]
  },
  {
   "cell_type": "code",
   "execution_count": 7,
   "id": "37241901-9e00-4e29-8259-fe2366fa3a99",
   "metadata": {},
   "outputs": [
    {
     "name": "stdout",
     "output_type": "stream",
     "text": [
      "LSTM Accuracy: 86.88%\n"
     ]
    }
   ],
   "source": [
    "scores_lstm = model.evaluate(x_test, y_test, verbose=0)\n",
    "print(\"LSTM Accuracy: %.2f%%\" % (scores_lstm[1] * 100))"
   ]
  },
  {
   "cell_type": "code",
   "execution_count": null,
   "id": "655113b8-018c-4c92-ad31-e89dbeaa5be8",
   "metadata": {},
   "outputs": [],
   "source": [
    "Bidirectional RNN model"
   ]
  },
  {
   "cell_type": "code",
   "execution_count": 8,
   "id": "93957bff-ae67-421d-9e86-a2fa67cef95e",
   "metadata": {},
   "outputs": [
    {
     "name": "stdout",
     "output_type": "stream",
     "text": [
      "Epoch 1/10\n",
      "196/196 [==============================] - 36s 172ms/step - loss: 0.6543 - accuracy: 0.6022 - val_loss: 0.5247 - val_accuracy: 0.7828\n",
      "Epoch 2/10\n",
      "196/196 [==============================] - 33s 168ms/step - loss: 0.4284 - accuracy: 0.8152 - val_loss: 0.4259 - val_accuracy: 0.8096\n",
      "Epoch 3/10\n",
      "196/196 [==============================] - 33s 171ms/step - loss: 0.3434 - accuracy: 0.8556 - val_loss: 0.5979 - val_accuracy: 0.7641\n",
      "Epoch 4/10\n",
      "196/196 [==============================] - 39s 201ms/step - loss: 0.3050 - accuracy: 0.8752 - val_loss: 0.3463 - val_accuracy: 0.8584\n",
      "Epoch 5/10\n",
      "196/196 [==============================] - 46s 237ms/step - loss: 0.2696 - accuracy: 0.8903 - val_loss: 0.3407 - val_accuracy: 0.8545\n",
      "Epoch 6/10\n",
      "196/196 [==============================] - 39s 200ms/step - loss: 0.2385 - accuracy: 0.9077 - val_loss: 0.4541 - val_accuracy: 0.7932\n",
      "Epoch 7/10\n",
      "196/196 [==============================] - 42s 214ms/step - loss: 0.2019 - accuracy: 0.9250 - val_loss: 0.4868 - val_accuracy: 0.7737\n",
      "Epoch 8/10\n",
      "196/196 [==============================] - 43s 218ms/step - loss: 0.1722 - accuracy: 0.9372 - val_loss: 0.4235 - val_accuracy: 0.8289\n",
      "Epoch 9/10\n",
      "196/196 [==============================] - 40s 204ms/step - loss: 0.1423 - accuracy: 0.9479 - val_loss: 0.4520 - val_accuracy: 0.8302\n",
      "Epoch 10/10\n",
      "196/196 [==============================] - 37s 191ms/step - loss: 0.1116 - accuracy: 0.9612 - val_loss: 0.4786 - val_accuracy: 0.8378\n"
     ]
    },
    {
     "data": {
      "text/plain": [
       "<keras.src.callbacks.History at 0x195a69da290>"
      ]
     },
     "execution_count": 8,
     "metadata": {},
     "output_type": "execute_result"
    }
   ],
   "source": [
    "model = Sequential()\n",
    "model.add(Embedding(max_features, 32))\n",
    "model.add(Bidirectional(SimpleRNN(32)))\n",
    "model.add(Dense(1, activation='sigmoid'))\n",
    "model.compile(optimizer='rmsprop', loss='binary_crossentropy', metrics=['accuracy'])\n",
    "model.fit(x_train, y_train, batch_size=128, epochs=10, validation_data=(x_test, y_test))"
   ]
  },
  {
   "cell_type": "code",
   "execution_count": 9,
   "id": "29d44e03-753b-439a-8665-ca46b1655371",
   "metadata": {},
   "outputs": [
    {
     "name": "stdout",
     "output_type": "stream",
     "text": [
      "Bidirectional RNN Accuracy: 83.78%\n"
     ]
    }
   ],
   "source": [
    "scores_lstm = model.evaluate(x_test, y_test, verbose=0)\n",
    "print(\"Bidirectional RNN Accuracy: %.2f%%\" % (scores_lstm[1] * 100))"
   ]
  },
  {
   "cell_type": "code",
   "execution_count": null,
   "id": "11c19f21-7730-4d44-931d-88525003a332",
   "metadata": {},
   "outputs": [],
   "source": [
    "Deep LSTM model"
   ]
  },
  {
   "cell_type": "code",
   "execution_count": 10,
   "id": "917bba25-4a9a-4435-801c-a48ea2a159d5",
   "metadata": {},
   "outputs": [
    {
     "name": "stdout",
     "output_type": "stream",
     "text": [
      "Epoch 1/10\n",
      "196/196 [==============================] - 193s 961ms/step - loss: 0.5506 - accuracy: 0.6925 - val_loss: 0.4291 - val_accuracy: 0.8054\n",
      "Epoch 2/10\n",
      "196/196 [==============================] - 184s 942ms/step - loss: 0.3329 - accuracy: 0.8602 - val_loss: 0.3744 - val_accuracy: 0.8326\n",
      "Epoch 3/10\n",
      "196/196 [==============================] - 175s 895ms/step - loss: 0.2801 - accuracy: 0.8887 - val_loss: 0.2929 - val_accuracy: 0.8782\n",
      "Epoch 4/10\n",
      "196/196 [==============================] - 178s 912ms/step - loss: 0.2449 - accuracy: 0.9052 - val_loss: 0.3269 - val_accuracy: 0.8700\n",
      "Epoch 5/10\n",
      "196/196 [==============================] - 146s 748ms/step - loss: 0.2312 - accuracy: 0.9107 - val_loss: 0.3325 - val_accuracy: 0.8586\n",
      "Epoch 6/10\n",
      "196/196 [==============================] - 182s 930ms/step - loss: 0.2150 - accuracy: 0.9189 - val_loss: 0.3165 - val_accuracy: 0.8746\n",
      "Epoch 7/10\n",
      "196/196 [==============================] - 196s 1s/step - loss: 0.2062 - accuracy: 0.9239 - val_loss: 0.3224 - val_accuracy: 0.8669\n",
      "Epoch 8/10\n",
      "196/196 [==============================] - 185s 946ms/step - loss: 0.1864 - accuracy: 0.9310 - val_loss: 0.3122 - val_accuracy: 0.8797\n",
      "Epoch 9/10\n",
      "196/196 [==============================] - 149s 763ms/step - loss: 0.1714 - accuracy: 0.9370 - val_loss: 0.3120 - val_accuracy: 0.8766\n",
      "Epoch 10/10\n",
      "196/196 [==============================] - 202s 1s/step - loss: 0.1620 - accuracy: 0.9419 - val_loss: 0.3156 - val_accuracy: 0.8712\n"
     ]
    },
    {
     "data": {
      "text/plain": [
       "<keras.src.callbacks.History at 0x195a8a48810>"
      ]
     },
     "execution_count": 10,
     "metadata": {},
     "output_type": "execute_result"
    }
   ],
   "source": [
    "model = Sequential()\n",
    "model.add(Embedding(max_features, 32))\n",
    "model.add(LSTM(32, return_sequences=True))\n",
    "model.add(LSTM(32))\n",
    "model.add(Dense(1, activation='sigmoid'))\n",
    "model.compile(optimizer='rmsprop', loss='binary_crossentropy', metrics=['accuracy'])\n",
    "model.fit(x_train, y_train, batch_size=128, epochs=10, validation_data=(x_test, y_test))"
   ]
  },
  {
   "cell_type": "code",
   "execution_count": 13,
   "id": "82ba7a24-5594-4674-a2fc-e86d7b9c7d58",
   "metadata": {},
   "outputs": [
    {
     "name": "stdout",
     "output_type": "stream",
     "text": [
      "Deep LSTM Accuracy: 87.12%\n"
     ]
    }
   ],
   "source": [
    "scores_deep_lstm = model.evaluate(x_test, y_test, verbose=0)\n",
    "print(\"Deep LSTM Accuracy: %.2f%%\" % (scores_deep_lstm[1] * 100))"
   ]
  },
  {
   "cell_type": "code",
   "execution_count": null,
   "id": "5ea8a204-33bd-4df2-8fa4-56179c65bf40",
   "metadata": {},
   "outputs": [],
   "source": [
    "Результати :\n",
    "RNN Accuracy: 82.38%\n",
    "LSTM Accuracy: 86.88%\n",
    "Bidirectional RNN Accuracy: 83.78%\n",
    "Deep LSTM Accuracy: 87.12%\n",
    "\n",
    "В цілому результати точністі майже схожі, але все ж для данного випадку кращим вибором є Deep LSTM модель.\n",
    "Ця модель не була швидкою, але майже у всіх єпохах мала максимальний результат точністі."
   ]
  },
  {
   "cell_type": "code",
   "execution_count": null,
   "id": "0e7b6ff5-4685-43a0-9d03-47e231ad3879",
   "metadata": {},
   "outputs": [],
   "source": []
  }
 ],
 "metadata": {
  "kernelspec": {
   "display_name": "Python 3 (ipykernel)",
   "language": "python",
   "name": "python3"
  },
  "language_info": {
   "codemirror_mode": {
    "name": "ipython",
    "version": 3
   },
   "file_extension": ".py",
   "mimetype": "text/x-python",
   "name": "python",
   "nbconvert_exporter": "python",
   "pygments_lexer": "ipython3",
   "version": "3.11.2"
  }
 },
 "nbformat": 4,
 "nbformat_minor": 5
}
